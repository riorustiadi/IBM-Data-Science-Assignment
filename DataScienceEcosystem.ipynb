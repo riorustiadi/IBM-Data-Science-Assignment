{
 "cells": [
  {
   "cell_type": "markdown",
   "id": "dc28d504",
   "metadata": {},
   "source": [
    "# Data Science Tools and Ecosystem"
   ]
  },
  {
   "cell_type": "markdown",
   "id": "f5398b17",
   "metadata": {},
   "source": [
    "In this notebook, Data Science Tools and Ecosystem are summarized."
   ]
  },
  {
   "cell_type": "markdown",
   "id": "a7aae613",
   "metadata": {},
   "source": [
    "## Some of the commonly used languages for Data Science include:\n",
    "\n",
    "- Python\n",
    "- R\n",
    "- SQL\n",
    "- Julia\n",
    "- Scala"
   ]
  },
  {
   "cell_type": "markdown",
   "id": "56db161a",
   "metadata": {},
   "source": [
    "## Some of the commonly used libraries used by Data Scientists include:\n",
    "\n",
    "- Pandas\n",
    "- NumPy\n",
    "- Matplotlib\n",
    "- Scikit-learn\n",
    "- Seaborn"
   ]
  },
  {
   "cell_type": "markdown",
   "id": "93cf7cdd",
   "metadata": {},
   "source": [
    "## Data Science Tools\n",
    "\n",
    "Some of the popular open-source tools used by data scientists include:\n",
    "\n",
    "- Jupyter Notebook\n",
    "- RStudio\n",
    "- Apache Zeppelin\n",
    "- VS Code\n",
    "- KNIME\n"
   ]
  },
  {
   "cell_type": "markdown",
   "id": "b6fb90ba",
   "metadata": {},
   "source": [
    "### Below are a few examples of evaluating arithmetic expressions in Python"
   ]
  },
  {
   "cell_type": "code",
   "execution_count": 1,
   "id": "6b2e756e",
   "metadata": {},
   "outputs": [
    {
     "data": {
      "text/plain": [
       "17"
      ]
     },
     "execution_count": 1,
     "metadata": {},
     "output_type": "execute_result"
    }
   ],
   "source": [
    "# This is a simple arithmetic expression to multiply then add integers\n",
    "(3 * 4) + 5"
   ]
  },
  {
   "cell_type": "code",
   "execution_count": 2,
   "id": "90dcd7c6",
   "metadata": {},
   "outputs": [
    {
     "data": {
      "text/plain": [
       "3.3333333333333335"
      ]
     },
     "execution_count": 2,
     "metadata": {},
     "output_type": "execute_result"
    }
   ],
   "source": [
    "# This will convert 200 minutes to hours by dividing by 60\n",
    "minutes = 200\n",
    "hours = minutes / 60\n",
    "hours"
   ]
  },
  {
   "cell_type": "markdown",
   "id": "dc895617",
   "metadata": {},
   "source": [
    "**Objectives:**\n",
    "\n",
    "- List popular languages for Data Science\n",
    "- Identify commonly used libraries and tools in Data Science\n",
    "- Demonstrate basic arithmetic operations using Python\n",
    "- Convert units using Python code (e.g., minutes to hours)\n",
    "- Create and format Markdown and code cells in a Jupyter Notebook"
   ]
  },
  {
   "cell_type": "markdown",
   "id": "4346a391",
   "metadata": {},
   "source": [
    "## Author\n",
    "\n",
    "Mario Adi Nugroho"
   ]
  },
  {
   "cell_type": "markdown",
   "id": "63b041e4",
   "metadata": {},
   "source": []
  }
 ],
 "metadata": {
  "kernelspec": {
   "display_name": "Python 3",
   "language": "python",
   "name": "python3"
  },
  "language_info": {
   "codemirror_mode": {
    "name": "ipython",
    "version": 3
   },
   "file_extension": ".py",
   "mimetype": "text/x-python",
   "name": "python",
   "nbconvert_exporter": "python",
   "pygments_lexer": "ipython3",
   "version": "3.11.9"
  }
 },
 "nbformat": 4,
 "nbformat_minor": 5
}
